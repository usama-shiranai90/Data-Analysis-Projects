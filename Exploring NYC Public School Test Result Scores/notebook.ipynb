{
 "cells": [
  {
   "source": [
    "![New York City schoolbus](schoolbus.jpg)\n",
    "\n",
    "Photo by [Jannis Lucas](https://unsplash.com/@jannis_lucas) on [Unsplash](https://unsplash.com).\n",
    "<br>\n",
    "\n",
    "Every year, American high school students take SATs, which are standardized tests intended to measure literacy, numeracy, and writing skills. There are three sections - reading, math, and writing, each with a maximum score of 800 points. These tests are extremely important for students and colleges, as they play a pivotal role in the admissions process.\n",
    "\n",
    "Analyzing the performance of schools is important for a variety of stakeholders, including policy and education professionals, researchers, government, and even parents considering which school their children should attend. \n",
    "\n",
    "You have been provided with a dataset called `schools.csv`, which is previewed below.\n",
    "\n",
    "You have been tasked with answering three key questions about New York City (NYC) public school SAT performance."
   ],
   "metadata": {},
   "id": "fe0ea788-58dd-459e-8976-fafdb5c05c6d",
   "cell_type": "markdown"
  },
  {
   "source": [
    "import numpy as np\n",
    "# Re-run this cell \n",
    "import pandas as pd\n",
    "\n",
    "# Read in the data\n",
    "schools = pd.read_csv(\"schools.csv\")\n",
    "\n",
    "# Preview the data\n",
    "schools.head(5)"
   ],
   "metadata": {
    "id": "bA5ajAmk7XH6",
    "executionTime": 53,
    "lastSuccessfullyExecutedCode": "# Re-run this cell \nimport pandas as pd\n\n# Read in the data\nschools = pd.read_csv(\"schools.csv\")\n\n# Preview the data\nschools.head()\n\n# Start coding here...",
    "executionCancelledAt": null,
    "lastExecutedAt": 1694166994771,
    "lastScheduledRunId": null,
    "outputsMetadata": {
     "0": {
      "height": 219,
      "type": "dataFrame"
     }
    }
   },
   "id": "d0eb4f16-5a99-460d-a5ba-706b7ef0bbe7",
   "cell_type": "code",
   "execution_count": null,
   "outputs": []
  },
  {
   "cell_type": "code",
   "execution_count": null,
   "outputs": [],
   "source": [
    "# Start coding here...\n",
    "least_score = 0.8 * schools['average_math'].max()\n",
    "best_math_schools = schools[schools['average_math'] >= least_score].copy()\n",
    "best_math_schools = best_math_schools[['school_name','average_math',]]\n",
    "best_math_schools.sort_values(by='average_math', ascending=False, inplace= True)\n",
    "best_math_schools"
   ],
   "metadata": {
    "collapsed": false
   },
   "id": "6c2cc7cb42658df5"
  },
  {
   "cell_type": "code",
   "execution_count": null,
   "outputs": [],
   "source": [
    "schools['total_SAT'] = schools[['average_writing', 'average_reading', 'average_math']].sum(axis=1)\n",
    "\n",
    "top_10_schools = schools.nlargest(10, 'total_SAT')[['school_name', 'total_SAT']]\n",
    "top_10_schools"
   ],
   "metadata": {
    "collapsed": false
   },
   "id": "a0ff7e231485790e"
  },
  {
   "cell_type": "code",
   "execution_count": null,
   "outputs": [],
   "source": [
    "borough_stats = schools.groupby('borough')['total_SAT'].agg(['count', 'mean', 'std'])\n",
    "borough_stats.columns = ['num_schools', 'average_SAT', 'std_SAT']\n",
    "borough_stats = borough_stats.round(2)\n",
    "\n",
    "largest_std_dev = borough_stats[borough_stats['std_SAT'] == borough_stats['std_SAT'].max()]\n",
    "largest_std_dev"
   ],
   "metadata": {
    "collapsed": false
   },
   "id": "7f1d62127766c963"
  },
  {
   "cell_type": "code",
   "execution_count": null,
   "outputs": [],
   "source": [
    "\n",
    "# Identifying the top 10 performing schools based on total SAT scores\n",
    "schools_data['total_SAT'] = schools_data['average_math'] + schools_data['average_reading'] + schools_data['average_writing']\n",
    "top_10_schools = schools_data.nlargest(10, 'total_SAT')[['school_name', 'total_SAT']]\n",
    "\n",
    "# Locating the NYC borough with the largest standard deviation for total_SAT\n",
    "borough_stats = schools_data.groupby('borough')['total_SAT'].agg(['count', 'mean', 'std'])\n",
    "borough_stats.columns = ['num_schools', 'average_SAT', 'std_SAT']\n",
    "borough_stats = borough_stats.round(2)\n",
    "largest_std_dev = borough_stats[borough_stats['std_SAT'] == borough_stats['std_SAT'].max()]\n",
    "\n",
    "# Display the results\n",
    "best_math_schools, top_10_schools, largest_std_dev\n",
    "\n"
   ],
   "metadata": {
    "collapsed": false
   },
   "id": "9950256cb8384cf0"
  }
 ],
 "metadata": {
  "colab": {
   "name": "Welcome to DataCamp Workspaces.ipynb",
   "provenance": []
  },
  "kernelspec": {
   "display_name": "Python 3 (ipykernel)",
   "language": "python",
   "name": "python3"
  },
  "language_info": {
   "codemirror_mode": {
    "name": "ipython",
    "version": 3
   },
   "file_extension": ".py",
   "mimetype": "text/x-python",
   "name": "python",
   "nbconvert_exporter": "python",
   "pygments_lexer": "ipython3",
   "version": "3.8.10"
  }
 },
 "nbformat": 4,
 "nbformat_minor": 5
}
